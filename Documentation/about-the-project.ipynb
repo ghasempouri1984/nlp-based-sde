{
 "cells": [
  {
   "attachments": {},
   "cell_type": "markdown",
   "metadata": {},
   "source": [
    "## About The Project"
   ]
  },
  {
   "attachments": {},
   "cell_type": "markdown",
   "metadata": {},
   "source": [
    "### Main Features\n",
    "- **Text Analysis:** Tokenize and analyze text, showing tokens, their shapes, parts of speech, tags, lemmas, and stopword status.\n",
    "- **Named Entity Recognition:** Extract and visualize entities such as names, dates, and organizations from the input text.\n",
    "- **Sentiment Analysis:** Determine the sentiment of the input text, classifying it as positive, negative, or neutral.\n",
    "- **Word Cloud Generation:** Create word clouds to visualize the most common words in the input text.\n",
    "- **Frequency Plots:** Generate bar plots to visualize the frequency of the most common tokens in the input text.\n",
    "- **Part of Speech Histograms:** Display histograms showing the distribution of different parts of speech in the input text.\n",
    "- **Interactive Maps:** Create interactive maps to visualize geographical entities extracted from the input text (optional).\n",
    "\n",
    "        \n",
    "### 1. Why do we need a NLP-based scholarly digital edition of the letters of Vespasiano di Bisticci and how are we supposed to benefit from it?\n",
    "A Natural Language Processing (NLP)-based scholarly digital edition (SDE) of the letters of Vespasiano di Bisticci can provide several benefits:\n",
    "- **Enhanced Understanding:** NLP can help us understand the content of the letters in a more nuanced way. It can reveal patterns, themes, and sentiments that might not be immediately apparent from a casual reading. This can provide new insights into Vespasiano di Bisticci's thoughts, feelings, and experiences, as well as the broader historical and cultural context in which he lived [1,2].\n",
    "- **Efficient Analysis:** Analyzing historical texts manually can be a time-consuming process, especially when dealing with a large number of documents. NLP can automate much of this process, making it possible to analyze the letters more efficiently [3].\n",
    "- **Interactive Exploration:** The interactive features of the SDE, such as word clouds, frequency plots, and part-of-speech histograms, can provide a more engaging and immersive experience for users. They can explore the text in a dynamic way, generating visualizations based on their interests [4].\n",
    "- **Facilitating Research:** The NLP-based SDE can be a valuable resource for scholars studying Vespasiano di Bisticci, the Renaissance period, or historical linguistics. It can facilitate research by providing a rich, interactive, and easily accessible dataset for analysis [5].\n",
    "\n",
    "        \n",
    "### 2. What do we need to create a NLP-based SDE and what kind of edition is best suited to our case?\n",
    "        \n",
    "Creating a Natural Language Processing (NLP)-based scholarly digital edition (SDE) of the letters of Vespasiano di Bisticci involves several steps and considerations:\n",
    "- **Accurate Transcription and Translation:** The letters must be accurately transcribed and, if necessary, translated. This is a critical step as the quality of the NLP analysis depends on the quality of the input text [6]\n",
    "- **Selection of NLP Tools:** The choice of NLP tools depends on the specific tasks we want to perform (e.g., tokenization, part-of-speech tagging, named entity recognition, sentiment analysis). Python has several libraries for NLP, such as NLTK, SpaCy, and TextBlob, which can be used for these tasks [7].\n",
    "- **Development of the Web Application:** Streamlit is a great choice for developing interactive web applications for machine learning and data science. It allows you to create interactive features like word clouds, frequency plots, and part-of-speech histograms [8].\n",
    "- **Inclusion of Scholarly Input:** The NLP analysis should be complemented with scholarly input to provide context and interpretation. This could involve annotating the text with additional information or providing essays that discuss the findings of the NLP analysis [2].\n",
    "\n",
    "\n",
    "### 3. Which technologies best achieve the expected results?\n",
    "The app is built using the following Python libraries:\n",
    "\n",
    "- **Streamlit:** A framework for building web applications.\n",
    "- **spaCy:** A library for advanced NLP tasks.\n",
    "- **neattext:** A text cleaning library.\n",
    "- **TextBlob:** A library for sentiment analysis.\n",
    "- **nltk:** A library for working with human language data (text).\n",
    "- **wordcloud:** A library for generating word clouds.\n",
    "- **matplotlib, seaborn:** Libraries for creating static, animated, and interactive visualizations.\n",
    "- **pandas:** A library for data manipulation and analysis.\n",
    "- **folium:** A library for creating interactive maps.\n",
    "\n",
    "You can find the complete source code for this app on [GitHub](https://github.com/ghasempouri1984/nlp-based-sde). Feel free to contribute or report any issues you find.\n",
    "\n",
    "**References:**\n",
    "1. Language technology for digital humanities (https://link.springer.com/article/10.1007/s10579-019-09482-4)\n",
    "2. Digital Humanities and Natural Language Processing (http://digitalhumanities.org:8081/dhq/vol/14/2/000454/000454.html)\n",
    "3. Computational text analysis within the Humanities: How to combine working practices from the contributing fields? (https://link.springer.com/article/10.1007/s10579-019-09459-3)\n",
    "4. Natural Language Processing in the Humanities: A Case Study in Automated Metadata Enhancement (https://journal.code4lib.org/articles/14834)\n",
    "5. LL(O)D and NLP perspectives on semantic change for humanities research (https://content.iospress.com/articles/semantic-web/sw222848)\n",
    "6. Reflexivity in Issues of Scale and Representation in a Digital Humanities Project (https://arxiv.org/abs/2109.14184)\n",
    "7. Teaching Computational Methods to Humanities Students (https://www.semanticscholar.org/paper/Teaching-Computational-Methods-to-Humanities-%C3%96hman/068248315c50889b4ab56bbdd1f88f76785cc1c5)\n",
    "8. How to Build an NLP Machine Learning App-End to End (https://medium.com/geekculture/how-to-build-an-nlp-machine-learning-app-end-to-end-76404ea9f6e8)"
   ]
  },
  {
   "cell_type": "code",
   "execution_count": null,
   "metadata": {},
   "outputs": [],
   "source": []
  }
 ],
 "metadata": {
  "kernelspec": {
   "display_name": "base",
   "language": "python",
   "name": "python3"
  },
  "language_info": {
   "name": "python",
   "version": "3.9.13"
  },
  "orig_nbformat": 4
 },
 "nbformat": 4,
 "nbformat_minor": 2
}
