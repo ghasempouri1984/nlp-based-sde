{
 "cells": [
  {
   "cell_type": "markdown",
   "source": [
    "#### This exploratory work involves reading a JSON file(\"vdbRdf.json\" in this project(https://dharc-org.github.io/vespasiano-da-bisticci-letters-de/documentation/downloads.html)), analyzing the 'place' column, filtering and extracting non-null places, extracting specific information from a nested structure, removing duplicates, and saving the unique places into a CSV file. These steps provide insights into the places data and lay the groundwork for further analysis or processing. Here is a summary of the exploratory work conducted:"
   ],
   "metadata": {
    "collapsed": false
   }
  },
  {
   "cell_type": "markdown",
   "source": [
    "1. **Reading the JSON file**:\n",
    "   - The code begins by reading the contents of the JSON file using the `read_json()` function and assigning it to the variable `data_json`.\n",
    "   - It then displays information about the structure and contents of the `data_json` object using the `info()` method.\n",
    "\n",
    "2. **Creating a DataFrame**:\n",
    "   - The JSON file is read again using pandas' `read_json()` function, creating a DataFrame named `df_data_json`.\n",
    "   - This allows for more convenient data manipulation and analysis.\n",
    "\n",
    "3. **Analyzing the 'place' column**:\n",
    "   - The code focuses on analyzing the column with the key `'http://purl.org/vocab/bio/0.1/place'` within the DataFrame `df_data_json`.\n",
    "   - It uses the `describe()` method to obtain a statistical summary of the column's data, including measures such as count, unique values, and descriptive statistics.\n",
    "\n",
    "4. **Filtering and extracting non-null places**:\n",
    "   - The code filters the rows in `df_data_json` where the `'place'` column is not null (not missing), and retrieves the corresponding values.\n",
    "   - These filtered values are assigned to a new DataFrame named `df_2`.\n",
    "   - This step ensures that only valid places are considered for further analysis.\n",
    "\n",
    "5. **Extracting specific information**:\n",
    "   - The code extracts specific information from the nested structure within `df_2`.\n",
    "   - It retrieves the value at row index 2 and column index 0, accessing the `'@id'` key within the nested structure.\n",
    "   - This step assumes a specific data structure and extracts a particular piece of information from it.\n",
    "\n",
    "6. **Removing duplicates**:\n",
    "   - The code creates a new DataFrame named `df_3_dropped` by removing any duplicate rows from `df_2`.\n",
    "   - This ensures that only unique places are retained for further analysis or processing.\n",
    "\n",
    "7. **Statistical summary of unique places**:\n",
    "   - The `describe()` method is applied to `df_3_dropped`, providing a statistical summary of the DataFrame's data.\n",
    "   - This summary includes measures such as count, mean, standard deviation, and quartiles for numeric columns.\n",
    "\n",
    "8. **Saving unique places**:\n",
    "   - The code saves the contents of `df_3_dropped` into a CSV file named \"unique_places.csv\" using the `to_csv()` method.\n",
    "   - This allows for easy storage and further analysis of the unique places extracted from the JSON file."
   ],
   "metadata": {
    "collapsed": false
   }
  },
  {
   "cell_type": "code",
   "execution_count": 1,
   "metadata": {
    "collapsed": false,
    "pycharm": {
     "name": "#%%\n"
    }
   },
   "outputs": [],
   "source": [
    "from pandas import *\n",
    "import pandas as pd"
   ]
  },
  {
   "attachments": {},
   "cell_type": "markdown",
   "metadata": {
    "collapsed": false,
    "pycharm": {
     "name": "#%% md\n"
    }
   },
   "source": [
    "## reading \"vdbRdf.json\" from Prof.Tomasi's project\n",
    "### First I read json file to know about columns\n",
    "### I found column nunmber 20 is URI for place"
   ]
  },
  {
   "cell_type": "code",
   "execution_count": 6,
   "metadata": {
    "collapsed": false,
    "pycharm": {
     "name": "#%%\n"
    }
   },
   "outputs": [
    {
     "name": "stdout",
     "output_type": "stream",
     "text": [
      "<class 'pandas.core.frame.DataFrame'>\n",
      "RangeIndex: 4165 entries, 0 to 4164\n",
      "Data columns (total 54 columns):\n",
      " #   Column                                                                        Non-Null Count  Dtype \n",
      "---  ------                                                                        --------------  ----- \n",
      " 0   @id                                                                           4165 non-null   object\n",
      " 1   @type                                                                         4165 non-null   object\n",
      " 2   http://purl.org/vocab/frbr/core#exemplar                                      362 non-null    object\n",
      " 3   http://www.w3.org/2000/01/rdf-schema#label                                    3308 non-null   object\n",
      " 4   http://purl.org/dc/terms/bibliographicCitation                                202 non-null    object\n",
      " 5   http://purl.org/dc/terms/description                                          3023 non-null   object\n",
      " 6   http://purl.org/spar/fabio/hasPublicationYear                                 225 non-null    object\n",
      " 7   http://purl.org/vocab/frbr/core#embodiment                                    431 non-null    object\n",
      " 8   http://purl.org/vocab/frbr/core#partOf                                        500 non-null    object\n",
      " 9   http://purl.org/dc/terms/creator                                              875 non-null    object\n",
      " 10  http://purl.org/dc/terms/references                                           592 non-null    object\n",
      " 11  http://purl.org/dc/terms/source                                               867 non-null    object\n",
      " 12  http://purl.org/dc/terms/type                                                 862 non-null    object\n",
      " 13  http://purl.org/spar/c4o/hasContent                                           1175 non-null   object\n",
      " 14  http://purl.org/dc/terms/isReferencedBy                                       192 non-null    object\n",
      " 15  http://purl.org/vocab/bio/0.1/birth                                           56 non-null     object\n",
      " 16  http://purl.org/vocab/bio/0.1/death                                           62 non-null     object\n",
      " 17  http://purl.org/spar/pro/isHeldBy                                             347 non-null    object\n",
      " 18  http://purl.org/spar/pro/relatesTo                                            347 non-null    object\n",
      " 19  http://purl.org/spar/pro/withRole                                             347 non-null    object\n",
      " 20  http://purl.org/vocab/bio/0.1/place                                           244 non-null    object\n",
      " 21  http://www.ontologydesignpatterns.org/cp/owl/timeindexedsituation.owl#atTime  205 non-null    object\n",
      " 22  http://www.w3.org/ns/prov#wasGeneratedBy                                      146 non-null    object\n",
      " 23  http://purl.org/dc/terms/title                                                602 non-null    object\n",
      " 24  http://www.essepuntato.it/2008/12/pattern#contains                            255 non-null    object\n",
      " 25  http://purl.org/dc/elements/1.1/date                                          118 non-null    object\n",
      " 26  http://purl.org/spar/pro/isRelatedToRoleInTime                                213 non-null    object\n",
      " 27  http://purl.org/spar/fabio/hasPortrayal                                       45 non-null     object\n",
      " 28  http://purl.org/vocab/frbr/core#realization                                   263 non-null    object\n",
      " 29  http://purl.org/emmedi/hico/hasInterpretationCriterion                        146 non-null    object\n",
      " 30  http://purl.org/emmedi/hico/hasInterpretationType                             146 non-null    object\n",
      " 31  http://purl.org/emmedi/hico/isExtractedFrom                                   146 non-null    object\n",
      " 32  http://purl.org/spar/cito/citesAsAuthority                                    81 non-null     object\n",
      " 33  http://purl.org/spar/cito/citesAsSource                                       146 non-null    object\n",
      " 34  http://www.w3.org/ns/prov#wasAssociatedWith                                   146 non-null    object\n",
      " 35  http://purl.org/vocab/frbr/core#complement                                    44 non-null     object\n",
      " 36  http://purl.org/vocab/frbr/core#part                                          62 non-null     object\n",
      " 37  http://schema.org/about                                                       90 non-null     object\n",
      " 38  http://prismstandard.org/namespaces/basic/2.0/pageRange                       105 non-null    object\n",
      " 39  http://www.w3.org/2002/07/owl#sameAs                                          126 non-null    object\n",
      " 40  http://prismstandard.org/namespaces/basic/2.0/volume                          62 non-null     object\n",
      " 41  http://schema.org/subjectOf                                                   45 non-null     object\n",
      " 42  http://purl.org/dc/terms/identifier                                           104 non-null    object\n",
      " 43  http://purl.org/spar/fabio/hasSubjectTerm                                     59 non-null     object\n",
      " 44  http://purl.org/spar/fabio/isPortrayalOf                                      56 non-null     object\n",
      " 45  http://purl.org/dc/terms/relation                                             42 non-null     object\n",
      " 46  http://xmlns.com/foaf/0.1/depiction                                           41 non-null     object\n",
      " 47  http://purl.org/dc/terms/issued                                               38 non-null     object\n",
      " 48  http://dati.san.beniculturali.it/SAN/has_luogoConservatore                    6 non-null      object\n",
      " 49  http://dati.san.beniculturali.it/SAN/isConservatoreOf                         6 non-null      object\n",
      " 50  http://purl.org/dc/terms/coverage                                             27 non-null     object\n",
      " 51  http://purl.org/spar/c4o/isRelevantTo                                         33 non-null     object\n",
      " 52  http://purl.org/vocab/frbr/core#realizationOf                                 19 non-null     object\n",
      " 53  http://purl.org/dc/terms/rights                                               1 non-null      object\n",
      "dtypes: object(54)\n",
      "memory usage: 1.7+ MB\n"
     ]
    }
   ],
   "source": [
    "data_json = read_json(\"vdbRdf.json\")\n",
    "data_json.info()"
   ]
  },
  {
   "attachments": {},
   "cell_type": "markdown",
   "metadata": {
    "collapsed": false,
    "pycharm": {
     "name": "#%% md\n"
    }
   },
   "source": [
    "### place has many NaN values:"
   ]
  },
  {
   "cell_type": "code",
   "execution_count": 7,
   "metadata": {
    "collapsed": false,
    "pycharm": {
     "name": "#%%\n"
    }
   },
   "outputs": [
    {
     "data": {
      "text/plain": [
       "0                                                     NaN\n",
       "1                                                     NaN\n",
       "2                                                     NaN\n",
       "3                                                     NaN\n",
       "4                                                     NaN\n",
       "                              ...                        \n",
       "4160                                                  NaN\n",
       "4161                                                  NaN\n",
       "4162                                                  NaN\n",
       "4163                                                  NaN\n",
       "4164    [{'@id': 'http://vespasianodabisticciletters.u...\n",
       "Name: http://purl.org/vocab/bio/0.1/place, Length: 4165, dtype: object"
      ]
     },
     "execution_count": 7,
     "metadata": {},
     "output_type": "execute_result"
    }
   ],
   "source": [
    "data_json[\"http://purl.org/vocab/bio/0.1/place\"]"
   ]
  },
  {
   "cell_type": "code",
   "execution_count": 9,
   "metadata": {
    "collapsed": false,
    "pycharm": {
     "name": "#%%\n"
    }
   },
   "outputs": [],
   "source": [
    "df_data_json = pd.read_json(\"vdbRdf.json\")"
   ]
  },
  {
   "attachments": {},
   "cell_type": "markdown",
   "metadata": {
    "collapsed": false,
    "pycharm": {
     "name": "#%% md\n"
    }
   },
   "source": [
    "### now we see that there is only 34 unique rows"
   ]
  },
  {
   "cell_type": "code",
   "execution_count": 7,
   "metadata": {
    "collapsed": false,
    "pycharm": {
     "name": "#%%\n"
    }
   },
   "outputs": [
    {
     "data": {
      "text/plain": [
       "count                                                   244\n",
       "unique                                                   34\n",
       "top       [{'@id': 'http://vespasianodabisticciletters.u...\n",
       "freq                                                     81\n",
       "Name: http://purl.org/vocab/bio/0.1/place, dtype: object"
      ]
     },
     "execution_count": 7,
     "metadata": {},
     "output_type": "execute_result"
    }
   ],
   "source": [
    "df_data_json['http://purl.org/vocab/bio/0.1/place'].describe(include=\"all\")"
   ]
  },
  {
   "cell_type": "code",
   "execution_count": 13,
   "metadata": {},
   "outputs": [],
   "source": [
    "# df_3.reset_index(inplace=True, drop=True)"
   ]
  },
  {
   "cell_type": "code",
   "execution_count": 18,
   "metadata": {},
   "outputs": [
    {
     "data": {
      "text/plain": [
       "Index(['@id', '@type', 'http://purl.org/vocab/frbr/core#exemplar',\n",
       "       'http://www.w3.org/2000/01/rdf-schema#label',\n",
       "       'http://purl.org/dc/terms/bibliographicCitation',\n",
       "       'http://purl.org/dc/terms/description',\n",
       "       'http://purl.org/spar/fabio/hasPublicationYear',\n",
       "       'http://purl.org/vocab/frbr/core#embodiment',\n",
       "       'http://purl.org/vocab/frbr/core#partOf',\n",
       "       'http://purl.org/dc/terms/creator',\n",
       "       'http://purl.org/dc/terms/references',\n",
       "       'http://purl.org/dc/terms/source', 'http://purl.org/dc/terms/type',\n",
       "       'http://purl.org/spar/c4o/hasContent',\n",
       "       'http://purl.org/dc/terms/isReferencedBy',\n",
       "       'http://purl.org/vocab/bio/0.1/birth',\n",
       "       'http://purl.org/vocab/bio/0.1/death',\n",
       "       'http://purl.org/spar/pro/isHeldBy',\n",
       "       'http://purl.org/spar/pro/relatesTo',\n",
       "       'http://purl.org/spar/pro/withRole',\n",
       "       'http://purl.org/vocab/bio/0.1/place',\n",
       "       'http://www.ontologydesignpatterns.org/cp/owl/timeindexedsituation.owl#atTime',\n",
       "       'http://www.w3.org/ns/prov#wasGeneratedBy',\n",
       "       'http://purl.org/dc/terms/title',\n",
       "       'http://www.essepuntato.it/2008/12/pattern#contains',\n",
       "       'http://purl.org/dc/elements/1.1/date',\n",
       "       'http://purl.org/spar/pro/isRelatedToRoleInTime',\n",
       "       'http://purl.org/spar/fabio/hasPortrayal',\n",
       "       'http://purl.org/vocab/frbr/core#realization',\n",
       "       'http://purl.org/emmedi/hico/hasInterpretationCriterion',\n",
       "       'http://purl.org/emmedi/hico/hasInterpretationType',\n",
       "       'http://purl.org/emmedi/hico/isExtractedFrom',\n",
       "       'http://purl.org/spar/cito/citesAsAuthority',\n",
       "       'http://purl.org/spar/cito/citesAsSource',\n",
       "       'http://www.w3.org/ns/prov#wasAssociatedWith',\n",
       "       'http://purl.org/vocab/frbr/core#complement',\n",
       "       'http://purl.org/vocab/frbr/core#part', 'http://schema.org/about',\n",
       "       'http://prismstandard.org/namespaces/basic/2.0/pageRange',\n",
       "       'http://www.w3.org/2002/07/owl#sameAs',\n",
       "       'http://prismstandard.org/namespaces/basic/2.0/volume',\n",
       "       'http://schema.org/subjectOf', 'http://purl.org/dc/terms/identifier',\n",
       "       'http://purl.org/spar/fabio/hasSubjectTerm',\n",
       "       'http://purl.org/spar/fabio/isPortrayalOf',\n",
       "       'http://purl.org/dc/terms/relation',\n",
       "       'http://xmlns.com/foaf/0.1/depiction',\n",
       "       'http://purl.org/dc/terms/issued',\n",
       "       'http://dati.san.beniculturali.it/SAN/has_luogoConservatore',\n",
       "       'http://dati.san.beniculturali.it/SAN/isConservatoreOf',\n",
       "       'http://purl.org/dc/terms/coverage',\n",
       "       'http://purl.org/spar/c4o/isRelevantTo',\n",
       "       'http://purl.org/vocab/frbr/core#realizationOf',\n",
       "       'http://purl.org/dc/terms/rights'],\n",
       "      dtype='object')"
      ]
     },
     "execution_count": 18,
     "metadata": {},
     "output_type": "execute_result"
    }
   ],
   "source": [
    "df_data_json.keys()"
   ]
  },
  {
   "cell_type": "code",
   "execution_count": 8,
   "metadata": {
    "collapsed": false,
    "pycharm": {
     "name": "#%%\n"
    }
   },
   "outputs": [
    {
     "data": {
      "text/plain": [
       "13      [{'@id': 'http://vespasianodabisticciletters.u...\n",
       "14      [{'@id': 'http://vespasianodabisticciletters.u...\n",
       "17      [{'@id': 'http://vespasianodabisticciletters.u...\n",
       "21      [{'@id': 'http://vespasianodabisticciletters.u...\n",
       "40      [{'@id': 'http://vespasianodabisticciletters.u...\n",
       "                              ...                        \n",
       "4048    [{'@id': 'http://vespasianodabisticciletters.u...\n",
       "4050    [{'@id': 'http://vespasianodabisticciletters.u...\n",
       "4085    [{'@id': 'http://vespasianodabisticciletters.u...\n",
       "4109    [{'@id': 'http://vespasianodabisticciletters.u...\n",
       "4164    [{'@id': 'http://vespasianodabisticciletters.u...\n",
       "Name: http://purl.org/vocab/bio/0.1/place, Length: 244, dtype: object"
      ]
     },
     "execution_count": 8,
     "metadata": {},
     "output_type": "execute_result"
    }
   ],
   "source": [
    "df_data_json[df_data_json['http://purl.org/vocab/bio/0.1/place'].notna()]['http://purl.org/vocab/bio/0.1/place']"
   ]
  },
  {
   "cell_type": "code",
   "execution_count": 9,
   "metadata": {
    "collapsed": false,
    "pycharm": {
     "name": "#%%\n"
    }
   },
   "outputs": [],
   "source": [
    "df_2 = df_data_json[df_data_json['http://purl.org/vocab/bio/0.1/place'].notna()]['http://purl.org/vocab/bio/0.1/place']"
   ]
  },
  {
   "attachments": {},
   "cell_type": "markdown",
   "metadata": {
    "collapsed": false,
    "pycharm": {
     "name": "#%% md\n"
    }
   },
   "source": [
    "### reading a place uri for example:"
   ]
  },
  {
   "cell_type": "code",
   "execution_count": 19,
   "metadata": {
    "collapsed": false,
    "pycharm": {
     "name": "#%%\n"
    }
   },
   "outputs": [
    {
     "data": {
      "text/plain": [
       "'http://vespasianodabisticciletters.unibo.it/roma'"
      ]
     },
     "execution_count": 19,
     "metadata": {},
     "output_type": "execute_result"
    }
   ],
   "source": [
    "df_2.iloc[2][0]['@id']"
   ]
  },
  {
   "attachments": {},
   "cell_type": "markdown",
   "metadata": {
    "collapsed": false,
    "pycharm": {
     "name": "#%% md\n"
    }
   },
   "source": [
    "### dropping the duplicates:"
   ]
  },
  {
   "cell_type": "code",
   "execution_count": 20,
   "metadata": {
    "collapsed": false,
    "pycharm": {
     "name": "#%%\n"
    }
   },
   "outputs": [],
   "source": [
    "df_3_dropped = df_2.drop_duplicates()"
   ]
  },
  {
   "cell_type": "code",
   "execution_count": 21,
   "metadata": {
    "collapsed": false,
    "pycharm": {
     "name": "#%%\n"
    }
   },
   "outputs": [
    {
     "data": {
      "text/plain": [
       "count                                                    34\n",
       "unique                                                   34\n",
       "top       [{'@id': 'http://vespasianodabisticciletters.u...\n",
       "freq                                                      1\n",
       "Name: http://purl.org/vocab/bio/0.1/place, dtype: object"
      ]
     },
     "execution_count": 21,
     "metadata": {},
     "output_type": "execute_result"
    }
   ],
   "source": [
    "df_3_dropped.describe()"
   ]
  },
  {
   "attachments": {},
   "cell_type": "markdown",
   "metadata": {
    "collapsed": false,
    "pycharm": {
     "name": "#%% md\n"
    }
   },
   "source": [
    "### creating a csv file for unique places:"
   ]
  },
  {
   "cell_type": "code",
   "execution_count": 22,
   "metadata": {
    "collapsed": false,
    "pycharm": {
     "name": "#%%\n"
    }
   },
   "outputs": [],
   "source": [
    "df_3_dropped.to_csv('unique_places.csv')"
   ]
  },
  {
   "cell_type": "code",
   "execution_count": null,
   "metadata": {
    "collapsed": false,
    "pycharm": {
     "name": "#%%\n"
    }
   },
   "outputs": [],
   "source": []
  }
 ],
 "metadata": {
  "kernelspec": {
   "display_name": "Python 3.10.7 ('venv')",
   "language": "python",
   "name": "python3"
  },
  "language_info": {
   "codemirror_mode": {
    "name": "ipython",
    "version": 3
   },
   "file_extension": ".py",
   "mimetype": "text/x-python",
   "name": "python",
   "nbconvert_exporter": "python",
   "pygments_lexer": "ipython3",
   "version": "3.9.13"
  },
  "vscode": {
   "interpreter": {
    "hash": "9af6fadf15c086639ec7196f669c0f7ec35b091eac4767191bf39c4dc8c4728e"
   }
  }
 },
 "nbformat": 4,
 "nbformat_minor": 0
}
